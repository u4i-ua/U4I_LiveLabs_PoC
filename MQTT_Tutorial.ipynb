{
 "cells": [
  {
   "cell_type": "markdown",
   "metadata": {
    "slideshow": {
     "slide_type": "notes"
    }
   },
   "source": [
    "# **University4Industry: DIGTAL LABS**"
   ]
  },
  {
   "cell_type": "markdown",
   "metadata": {},
   "source": [
    "<center><img src=\"industrie4.0.jpg\" width= \"600\" height = \"200\"></center>"
   ]
  },
  {
   "cell_type": "markdown",
   "metadata": {},
   "source": [
    "## **The MQTT protocol is a machine-to-machine (M2M)/”Internet of Things” connectivity protocol. Designed as an extremely lightweight publish/subscribe messaging transport, it is useful for connections with remote locations where a small code footprint is required and/or network bandwidth is at a premium.**"
   ]
  },
  {
   "cell_type": "markdown",
   "metadata": {},
   "source": [
    "### As a reminder how mqtt works, please see the picture below."
   ]
  },
  {
   "cell_type": "markdown",
   "metadata": {},
   "source": [
    "<center><img src=\"mqtt.png\" width= \"450\" height = \"150\" ></center>"
   ]
  },
  {
   "cell_type": "markdown",
   "metadata": {},
   "source": [
    "### This notebook is pre-configured for you to undertake a simple MQTT tutorial, which will help you to understand and implement an IoT system using MQTT protocol. "
   ]
  },
  {
   "cell_type": "markdown",
   "metadata": {},
   "source": [
    "### We will use \"paho\" source code. This code provides a client class which enable applications to connect to an MQTT broker to publish messages, and to subscribe to topics and receive published messages. It also provides some helper functions to make publishing one off messages to an MQTT server very straightforward.  (for more information click this link https://pypi.org/project/paho-mqtt/)"
   ]
  },
  {
   "cell_type": "markdown",
   "metadata": {},
   "source": [
    "### Please follow the instructions below and execute each cell pressing SHIFT + ENTER keys."
   ]
  },
  {
   "cell_type": "markdown",
   "metadata": {},
   "source": [
    "### <font color=blue> **Step 1:-**</font> The first step is to import a python based MQTT library."
   ]
  },
  {
   "cell_type": "code",
   "execution_count": 1,
   "metadata": {},
   "outputs": [],
   "source": [
    "import paho.mqtt.client as mqtt  # This command will import the paho mqtt library \n",
    "import time # This command imports the time library\n",
    "import random # This command imports the random library. This module implements pseudo-random number generators for various distributions."
   ]
  },
  {
   "cell_type": "markdown",
   "metadata": {},
   "source": [
    "### <font color=blue> **Step 2:-**</font> The callback for when a PUBLISH message is received from the server. We need a function to handle messages from the publiser in an apropriate format i.e. utf-8 (click this link for more details https://en.wikipedia.org/wiki/UTF-8)"
   ]
  },
  {
   "cell_type": "code",
   "execution_count": 2,
   "metadata": {},
   "outputs": [],
   "source": [
    "def messageFunction(client, userdata, message):\n",
    "    topic = str(message.topic)\n",
    "    message = str(message.payload.decode(\"utf-8\"))\n",
    "    print(topic + \" \" + message + \"°C\")"
   ]
  },
  {
   "cell_type": "markdown",
   "metadata": {},
   "source": [
    "### <font color=blue> **Step 3:-**</font> We need to create a new client which can connect to a MQTT broker, this client should have a unique ID"
   ]
  },
  {
   "cell_type": "code",
   "execution_count": 3,
   "metadata": {},
   "outputs": [],
   "source": [
    "my_client = mqtt.Client(\"my_sensors\")  # creating a new MQTT client object with an unique id \"new_sensors\", you can also give yourself a new id"
   ]
  },
  {
   "cell_type": "markdown",
   "metadata": {},
   "source": [
    "### <font color=blue> **Step 4:-**</font> Next step is to use a MQTT server/broker, there are few servers which are for free. One of them is test.mosquitto.org, it hosts a publicly available Mosquitto MQTT server/broker. (Click this link for more information http://test.mosquitto.org/)"
   ]
  },
  {
   "cell_type": "markdown",
   "metadata": {},
   "source": [
    "<center><img src=\"mosquitto_logo.png\" width= \"150\" height = \"50\"></center>"
   ]
  },
  {
   "cell_type": "code",
   "execution_count": 4,
   "metadata": {},
   "outputs": [
    {
     "data": {
      "text/plain": [
       "0"
      ]
     },
     "execution_count": 4,
     "metadata": {},
     "output_type": "execute_result"
    }
   ],
   "source": [
    "my_client.connect(\"test.mosquitto.org\", 1883) # This first parameter is the address of the server and second parameter is the port number\n",
    "                                              # important: If the connection is successful, you will see it as output 0 on the screen."
   ]
  },
  {
   "cell_type": "markdown",
   "metadata": {},
   "source": [
    "### <font color=blue> **Step 5:-**</font> We can also subscribe our newly created client to a subscriber."
   ]
  },
  {
   "cell_type": "code",
   "execution_count": 5,
   "metadata": {},
   "outputs": [
    {
     "data": {
      "text/plain": [
       "(0, 1)"
      ]
     },
     "execution_count": 5,
     "metadata": {},
     "output_type": "execute_result"
    }
   ],
   "source": [
    "my_client.subscribe(\"my_temp_sensor\") # Subscribe to the topic named \"temp_sensors\" , you can also create yourself a new topic and name it."
   ]
  },
  {
   "cell_type": "markdown",
   "metadata": {},
   "source": [
    "### <font color=blue> **Step 6:-**</font> Although we have subscribed to a topic but still messages are not yet displaed. The on_message() callback is used to process messages that are published to a subscribed topic. This will allow to print the message assigning the callback function to the on_message attribute of the client object."
   ]
  },
  {
   "cell_type": "code",
   "execution_count": 6,
   "metadata": {},
   "outputs": [],
   "source": [
    "my_client.on_message = messageFunction # Attach the \"messageFunction\" to the message event. \n",
    "                                       # The on_message() callback is used to process messages that are published to a subscribed topic.\n"
   ]
  },
  {
   "cell_type": "markdown",
   "metadata": {},
   "source": [
    "### <font color=blue> **Step 7:-**</font> Loop is a function of the mqtt client constructor. When a message is received by the paho mqtt client, the message is stored in the receive buffer. When a message is to be sent from the client to the broker, it is stored in the send buffer. The loop functions are made to process any messages in the buffer and call a respective callback function. They also automatically reconnect the client to the broker if it disconnects for some reason. Most of the loop functions run asynchronously, which means when the loop function is called it will run on a separate thread. There are 3 types of loop functions in the paho mqtt client. We will use loop_start() function."
   ]
  },
  {
   "cell_type": "code",
   "execution_count": 7,
   "metadata": {},
   "outputs": [],
   "source": [
    "my_client.loop_start() # The output will print the topic name, "
   ]
  },
  {
   "cell_type": "markdown",
   "metadata": {},
   "source": [
    "### <font color=blue> **Step 8:-**</font> We now write the main loop to publish message to MQTT broker."
   ]
  },
  {
   "cell_type": "code",
   "execution_count": 8,
   "metadata": {},
   "outputs": [
    {
     "name": "stdout",
     "output_type": "stream",
     "text": [
      "my_temp_sensor 18.65°C\n",
      "my_temp_sensor 22.74°C\n",
      "my_temp_sensor 10.12°C\n",
      "my_temp_sensor 23.6°C\n",
      "my_temp_sensor 23.99°C\n",
      "my_temp_sensor 22.6°C\n",
      "my_temp_sensor 24.84°C\n",
      "my_temp_sensor 14.28°C\n",
      "my_temp_sensor 15.57°C\n",
      "my_temp_sensor 15.77°C\n"
     ]
    }
   ],
   "source": [
    "for x in range(0, 10):\n",
    "    my_client.publish(\"my_temp_sensor\", float(random.randrange(1000, 2500)/100)) # the first argument is the name of the topic to which we want to publish and  second argument is the data value\n",
    "    time.sleep(2) # we publish every two seconds, this is shown below"
   ]
  },
  {
   "cell_type": "code",
   "execution_count": null,
   "metadata": {},
   "outputs": [],
   "source": []
  }
 ],
 "metadata": {
  "kernelspec": {
   "display_name": "Python 3",
   "language": "python",
   "name": "python3"
  },
  "language_info": {
   "codemirror_mode": {
    "name": "ipython",
    "version": 3
   },
   "file_extension": ".py",
   "mimetype": "text/x-python",
   "name": "python",
   "nbconvert_exporter": "python",
   "pygments_lexer": "ipython3",
   "version": "3.7.3"
  }
 },
 "nbformat": 4,
 "nbformat_minor": 2
}

{
 "cells": [
  {
   "cell_type": "markdown",
   "metadata": {},
   "source": [
    "# **University4Industry: DIGTAL LABS**"
   ]
  },
  {
   "cell_type": "markdown",
   "metadata": {},
   "source": [
    "<center><img src=\"industrie4.0.jpg\" width= \"600\" height = \"200\"></center>"
   ]
  },
  {
   "cell_type": "markdown",
   "metadata": {},
   "source": [
    "## **The MQTT protocol is a machine-to-machine (M2M)/”Internet of Things” connectivity protocol. Designed as an extremely lightweight publish/subscribe messaging transport, it is useful for connections with remote locations where a small code footprint is required and/or network bandwidth is at a premium.**"
   ]
  },
  {
   "cell_type": "markdown",
   "metadata": {},
   "source": [
    "### As a reminder how mqtt works, please see the picture below."
   ]
  },
  {
   "cell_type": "markdown",
   "metadata": {},
   "source": [
    "<center><img src=\"mqtt.png\" width= \"450\" height = \"150\" ></center>"
   ]
  },
  {
   "cell_type": "markdown",
   "metadata": {},
   "source": [
    "### In the previous JupyterLab we undertook a tutorial to understand the basic concept of how to work with MQTT using the paho MQTT python client library. We learnt to create a client instance and how to subscribe and publish."
   ]
  },
  {
   "cell_type": "markdown",
   "metadata": {},
   "source": [
    "### Please follow the instructions below and execute each cell pressing SHIFT + ENTER keys."
   ]
  },
  {
   "cell_type": "markdown",
   "metadata": {},
   "source": [
    "### <font color=blue>**Challenge Description:-**</font> This challenge involves a more practical exercise of how to leaverage MQTT for IoT based application and data analytics. Please follow the steps to complete this challenge."
   ]
  },
  {
   "cell_type": "markdown",
   "metadata": {},
   "source": [
    "### <font color=blue> **Step 1:-**</font> In the first step, we create dummy temperature sensor values. We would genearate a random temperature sensor dataset using the python random module. Since we donot have an actual temperature sensor, we find a way around it. We generate 10 different values between 10 and 25 and store them in a an array named \"temp_array\". Each entry in this array is then supposed as recorded temperature value measured every two hours."
   ]
  },
  {
   "cell_type": "code",
   "execution_count": 1,
   "metadata": {},
   "outputs": [],
   "source": [
    "import random # This module implements pseudo-random number generators for various distributions. \n",
    "temp_array = [float(random.randrange(1600, 2000)/100), float(random.randrange(1600, 1800)/100), float(random.randrange(1400, 1600)/100), \n",
    "              float(random.randrange(1200, 1400)/100), float(random.randrange(1400, 1600)/100), float(random.randrange(1600, 1800)/100),\n",
    "              float(random.randrange(1600, 2000)/100), float(random.randrange(1600, 2000)/100), float(random.randrange(1600, 1800)/100), \n",
    "              float(random.randrange(1600, 1800)/100), float(random.randrange(1400, 1600)/100), float(random.randrange(1400, 1600)/100)]"
   ]
  },
  {
   "cell_type": "markdown",
   "metadata": {},
   "source": [
    "### <font color=blue> **Step 2:-**</font> We use paho MQTT, Mosquitto server again and recreate a new client instance named \"IoT_client\" and connect it to the free Mosquitto server and use it to publish temperature sensor values recorded from our dummy temperature sensor. This is done in the cells below."
   ]
  },
  {
   "cell_type": "code",
   "execution_count": 2,
   "metadata": {},
   "outputs": [],
   "source": [
    "import paho.mqtt.client as mqtt  # This command will import the paho mqtt library \n",
    "import time # This command imports the time library\n",
    "\n",
    "def messageFunction(client, userdata, message):\n",
    "    topic = str(message.topic)\n",
    "    message = str(message.payload.decode(\"utf-8\"))\n",
    "    print(topic + \" \" + message + \"°C\")\n",
    "    \n",
    "IoT_client = mqtt.Client(\"IoT_Sensors\")  # creating a new MQTT client object with an unique id , please give an id to your client.\n",
    "\n",
    "IoT_client.connect(\"test.mosquitto.org\", 1883) # This first parameter is the address of the server and second parameter is the port number\n",
    "                                              # important: If the connection is successful, you will see it output 0 on the screen.\n",
    "\n",
    "IoT_client.subscribe(\"IoT_temp_sensor\") # Subscribe to the topic named \"temp_sensors\" \n",
    "\n",
    "IoT_client.on_message = messageFunction # Attach the \"messageFunction\" to the message event. \n",
    "                                       # The on_message() callback is used to process messages that are published to a subscribed topic.\n",
    "    \n",
    "IoT_client.loop_start() # The output will print the topic name, "
   ]
  },
  {
   "cell_type": "code",
   "execution_count": 3,
   "metadata": {},
   "outputs": [
    {
     "name": "stdout",
     "output_type": "stream",
     "text": [
      "IoT_temp_sensor 16.1°C\n",
      "IoT_temp_sensor 16.22°C\n",
      "IoT_temp_sensor 14.63°C\n",
      "IoT_temp_sensor 13.66°C\n",
      "IoT_temp_sensor 14.88°C\n",
      "IoT_temp_sensor 16.4°C\n",
      "IoT_temp_sensor 16.7°C\n",
      "IoT_temp_sensor 17.77°C\n",
      "IoT_temp_sensor 16.91°C\n",
      "IoT_temp_sensor 16.48°C\n",
      "IoT_temp_sensor 15.74°C\n",
      "IoT_temp_sensor 14.04°C\n"
     ]
    }
   ],
   "source": [
    "for x in range(0, len(temp_array)): # loop over the dummy tempertaure sensor data array\n",
    "    IoT_client.publish(\"IoT_temp_sensor\", temp_array[x])\n",
    "    time.sleep(2)"
   ]
  },
  {
   "cell_type": "markdown",
   "metadata": {},
   "source": [
    "### <font color=blue> **Step 3:-**</font> Now we will visualize the sensor data. We will use the Matplotlib. It is a Python 2D plotting library which produces publication quality figures in a variety of hardcopy formats and interactive environments across platforms."
   ]
  },
  {
   "cell_type": "code",
   "execution_count": null,
   "metadata": {},
   "outputs": [],
   "source": [
    "import numpy as np # NumPy is the fundamental package for array computing with Python.\n",
    "import seaborn as sns # Seaborn is a library for making statistical graphics in Python. It is built on top of matplotlib and closely integrated with pandas data structures\n",
    "import matplotlib.pyplot as plt # Matplotlib strives to produce publication quality 2D graphics\n",
    "%matplotlib inline\n",
    "hours = np.arange(0, 23, 2) # Creating a hours array, as to assign each recorded temperature to a given hour over 24 hours\n",
    "plt.figure(figsize=(10,5))\n",
    "plt.plot(hours, temp_array, marker = 'o', color ='#0084d7')\n",
    "plt.xlabel(\"Hours\", fontsize = 15)\n",
    "plt.ylabel(\"Temperature in °C\", fontsize = 15)\n",
    "plt.xticks(np.arange(0, 23, 2))\n",
    "plt.yticks(np.arange(8, 25, 2))\n",
    "plt.grid(color='gray', linestyle='--', linewidth=0.2)\n",
    "plt.show()"
   ]
  },
  {
   "cell_type": "markdown",
   "metadata": {},
   "source": [
    "### <font color=blue> **Step 4:-**</font> Your task in this notebook is to find the average temnperature value over last 24 hours. We can use numpy to do it this simple task. Please execute the block below."
   ]
  },
  {
   "cell_type": "code",
   "execution_count": null,
   "metadata": {},
   "outputs": [],
   "source": [
    "# Numpy.mean() is a method that lets us compute the arithmetic mean along the specified axis. It returns the average of the array elements.\n",
    "# You can find the average temperature value by simply passing the temperature array i.e. temp_array as argument to np.mean()\n",
    "# … … …\n",
    "\n",
    "avg_temp_value = # please compute the average temperature value and store it in this variable here\n",
    "\n",
    "# … … …"
   ]
  },
  {
   "cell_type": "markdown",
   "metadata": {},
   "source": [
    "### <font color=blue> **Step 5:-**</font> Please print the the average temperature value you just computed earlier."
   ]
  },
  {
   "cell_type": "code",
   "execution_count": null,
   "metadata": {},
   "outputs": [],
   "source": [
    "print (\"The average temperatue over last 24 hours is:\", avg_temp_value)"
   ]
  },
  {
   "cell_type": "markdown",
   "metadata": {},
   "source": [
    "### <font color=blue> **Step 6:-**</font> As a final step we will replot the recorded temperature values over last 24 hours along with our newly computed avg_temp_value."
   ]
  },
  {
   "cell_type": "code",
   "execution_count": null,
   "metadata": {},
   "outputs": [],
   "source": [
    "avg_temp_value = [np.mean(temp_array)]*len(hours)\n",
    "fig,ax = plt.subplots()\n",
    "# Plot the data\n",
    "data_line = ax.plot(hours, temp_array, label='Temp_data', marker='o')\n",
    "\n",
    "# Plot the average line\n",
    "mean_line = ax.plot(hours,avg_temp_value, label='Mean_temp', linestyle='--')\n",
    "\n",
    "# Make a legend\n",
    "legend = ax.legend(loc='upper right')\n",
    "plt.xlabel(\"Hours\", fontsize = 15)\n",
    "plt.ylabel(\"Temperature in °C\", fontsize = 15)\n",
    "plt.xticks(np.arange(0, 23, 2))\n",
    "plt.yticks(np.arange(8, 25, 2))\n",
    "plt.grid(color='gray', linestyle='--', linewidth=0.2)\n",
    "plt.show()"
   ]
  },
  {
   "cell_type": "code",
   "execution_count": null,
   "metadata": {},
   "outputs": [],
   "source": []
  }
 ],
 "metadata": {
  "kernelspec": {
   "display_name": "Python 3",
   "language": "python",
   "name": "python3"
  },
  "language_info": {
   "codemirror_mode": {
    "name": "ipython",
    "version": 3
   },
   "file_extension": ".py",
   "mimetype": "text/x-python",
   "name": "python",
   "nbconvert_exporter": "python",
   "pygments_lexer": "ipython3",
   "version": "3.7.3"
  }
 },
 "nbformat": 4,
 "nbformat_minor": 2
}
